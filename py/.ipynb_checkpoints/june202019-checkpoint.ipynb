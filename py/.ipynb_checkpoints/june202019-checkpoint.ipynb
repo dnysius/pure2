{
 "cells": [
  {
   "cell_type": "markdown",
   "metadata": {
    "slideshow": {
     "slide_type": "slide"
    }
   },
   "source": [
    "- Step motor cannot move more than about 1/4 cm per second, which means a single transducer cannot receive a transmitted signal in the next step\n",
    "\n",
    "- We need to find out actual distance travelled per step - claim is 40 micrometres per step, but when measured with a ruler, it falls short of the inputted distance.\n",
    "\n"
   ]
  },
  {
   "cell_type": "markdown",
   "metadata": {
    "slideshow": {
     "slide_type": "slide"
    }
   },
   "source": [
    "Half angle of flat transducer is given by $\\alpha = 2*\\arcsin{.514c/fD}$, where $\\alpha$ $c$ is speed of sound in medium, $f$ the frequency of transducer, $D$ element diameter."
   ]
  },
  {
   "cell_type": "code",
   "execution_count": null,
   "metadata": {
    "slideshow": {
     "slide_type": "skip"
    }
   },
   "outputs": [],
   "source": [
    "from data_analysis import Signal\n",
    "import matplotlib.pyplot as plt\n",
    "import numpy as np\n",
    "from os import listdir, mkdir, getcwd\n",
    "from os.path import isfile, isdir, join, dirname\n",
    "from scope import Scope\n",
    "from scanning import Scan, bscan, load_arr, move, d2s"
   ]
  },
  {
   "cell_type": "code",
   "execution_count": null,
   "metadata": {
    "slideshow": {
     "slide_type": "fragment"
    }
   },
   "outputs": [],
   "source": [
    "c = 1498 ## speed of sound of water, m/s\n",
    "f = 2.25e6 ## frequency of transducer, \n",
    "D = .0125 ## diameter of transducer\n",
    "RHS = np.arcsin(.514*c/f/D)\n",
    "alpha = RHS*180/np.pi\n",
    "print('half opening angle: {} degrees'.format(alpha))\n",
    "## find surface area covered\n",
    "A = .09 ## metres\n",
    "print('Area covered on sample surface {0}m depth: {1}'.format(A,A*np.tan(alpha)))\n",
    "A1 = .15\n",
    "print('Area covered on sample surface {0}m depth: {1}'.format(A1, A1*np.tan(alpha)))"
   ]
  },
  {
   "cell_type": "code",
   "execution_count": null,
   "metadata": {
    "slideshow": {
     "slide_type": "subslide"
    }
   },
   "outputs": [],
   "source": [
    "A9 = .09 ## sample depth, metres\n",
    "A15 = .15  ## sample depth, metres\n",
    "\n",
    "## 3 inch focused transducer half angle and beam spread\n",
    "F = 0.0762  ## focal depth, metres\n",
    "D = .0125  ## element diameter\n",
    "alpha3 = 90 - 180/np.pi*(np.arctan(F/(D/2)))\n",
    "print('3 in angle: {}'.format(alpha3))\n",
    "alpha3 = np.deg2rad(alpha3)\n",
    "print('3 in, beam spreads 9cm: {0}, 15cm: {1}'.format((.09-F)*np.tan(alpha3), (.15-F)*np.tan(alpha3)))\n",
    "## 1.5 inch focused transducer half angle and beam spread\n",
    "F = 0.0762/2  ## focal depth, metres\n",
    "D = .015  ## element diameter\n",
    "alpha15 = 90 - 180/np.pi*(np.arctan(F/(D/2)))\n",
    "print('1.5 in angle: {}'.format(alpha15))\n",
    "alpha15 = np.deg2rad(alpha15)\n",
    "print('1.5 in, beam spreads 9cm: {0}, 15cm: {1}'.format((.09-F)*np.tan(alpha15), (.15-F)*np.tan(alpha15)))"
   ]
  },
  {
   "cell_type": "markdown",
   "metadata": {
    "slideshow": {
     "slide_type": "fragment"
    }
   },
   "source": [
    "This calculation is purely geometrical, it has no dependence on frequency. For the flat transducer calculation, higher frequency (as well as larger element diameter) reduces beam spread."
   ]
  },
  {
   "cell_type": "code",
   "execution_count": null,
   "metadata": {
    "slideshow": {
     "slide_type": "slide"
    }
   },
   "outputs": [],
   "source": [
    "## pass the path to data and the file type (.npy, .npz, or .csv)\n",
    "fpath = \"C:\\\\Users\\\\dionysius\\\\Desktop\\\\PURE\\\\pure\\\\data\\\\30deg\\\\3FOC5in\"\n",
    "f = Signal(fpath, ftype='npy')"
   ]
  },
  {
   "cell_type": "code",
   "execution_count": null,
   "metadata": {
    "slideshow": {
     "slide_type": "subslide"
    }
   },
   "outputs": [],
   "source": [
    "print(type(f.signal_data))\n",
    "np.shape(f.signal_data)  ## (angle, # of points, time or voltage)"
   ]
  },
  {
   "cell_type": "code",
   "execution_count": null,
   "metadata": {
    "scrolled": true,
    "slideshow": {
     "slide_type": "subslide"
    }
   },
   "outputs": [],
   "source": [
    "f.ang_bscan((2500,4000))"
   ]
  },
  {
   "cell_type": "code",
   "execution_count": null,
   "metadata": {
    "slideshow": {
     "slide_type": "slide"
    }
   },
   "outputs": [],
   "source": [
    "f.analyze_peak(0, 0, -1)"
   ]
  },
  {
   "cell_type": "markdown",
   "metadata": {
    "slideshow": {
     "slide_type": "slide"
    }
   },
   "source": [
    "To find the index corresponding to a certain distance from transducer, we create a function defined as such."
   ]
  },
  {
   "cell_type": "code",
   "execution_count": null,
   "metadata": {
    "slideshow": {
     "slide_type": "subslide"
    }
   },
   "outputs": [],
   "source": [
    "tstep = 3.999999999997929e-08\n",
    "def dist_ind(dist):\n",
    "     ## distance in water\n",
    "     v_w = 1498\n",
    "     t = 2*dist/v_w\n",
    "     ind = t//tstep\n",
    "     return int(ind), t\n",
    "\n",
    "print('9 cm:\\t',dist_ind(.09)[0])\n",
    "print('15 cm:\\t', dist_ind(.15)[0])"
   ]
  },
  {
   "cell_type": "code",
   "execution_count": null,
   "metadata": {},
   "outputs": [],
   "source": []
  }
 ],
 "metadata": {
  "celltoolbar": "Slideshow",
  "kernelspec": {
   "display_name": "Python 3",
   "language": "python",
   "name": "python3"
  },
  "language_info": {
   "codemirror_mode": {
    "name": "ipython",
    "version": 3
   },
   "file_extension": ".py",
   "mimetype": "text/x-python",
   "name": "python",
   "nbconvert_exporter": "python",
   "pygments_lexer": "ipython3",
   "version": "3.6.5"
  }
 },
 "nbformat": 4,
 "nbformat_minor": 2
}
