{
 "cells": [
  {
   "cell_type": "markdown",
   "metadata": {},
   "source": [
    "### File organization\n",
    "Python code is stored in pure/py and its subdirectories. pure/data and pure/obj contains folders which store scan data in the form of `.pkl` (serialized numpy arrays) or `.npy` (binary numpy) files, to be used with python. Folder and file names containing the prefix \"1D\" denote a one dimensional scan, \"2D\" denotes a two dimensional scan, and those without any aforementioned prefixes denote angle dependence scans (stationary transducer with tilting metal sample). Images of scan results are placed in subdirectories of pure/scans.\n",
    "\n",
    "## Angle Dependence\n",
    "\n",
    "### Materials\n",
    "1. Metal block sample \n",
    "2. Ruler\n",
    "3. Large container to put water\n",
    "4. Duct tape\n",
    "5. String\n",
    "6. Incline wooden block (known angle)\n",
    "7. Deionized water\n",
    "\n",
    "### Equipment\n",
    "1. Oscilloscope\n",
    "2. Pulser\n",
    "3. Arduino (refer to \"Lab Manual.docx\")\n",
    "4. 2 Stepper motors\n",
    "\n",
    "### Method\n",
    "#### How do you set up the experiment?\n",
    "1. With metal block tilted by a micrometer\n",
    "\n",
    "The setup consists of a metal sample with a micrometer built-in which tilts the sample in a large bucket of water. To increase repeatability, we mark the position of the sample on the bottom surface of the bucket with tape and other pieces of metal.\n",
    "\n",
    "We use a protractor to measure the micrometer reading corresponding to every degree of inclination, starting at 0 degrees and going up to 15 degrees. We perform a linear fit on this data using `scipy.optimize.curve_fit()` and a linear model function $f(\\theta) = a\\theta+b$, where $\\theta$ is the angle of inclination and $f$ is the micrometer reading.\n",
    "\n",
    "Using the angle to micrometer reading table, we rotate the micrometer to fit a certain angle, place it in the bucket of \n",
    "water, let the water ripples settle down, then save the oscilloscope data.\n",
    "\n",
    "2. With metal block tilted by string\n",
    "\n",
    "We use a block of wood cut at 30 degrees from the normal, so that when we tilt the metal block sample against the wood, it is known that the metal block is angled at 30 degrees from the normal as well. Knowing that $\\theta_i=0$ and $\\theta_f=30^\\circ$, we record the oscilloscope data for every small changes in angle - for example, taking 100 measurements within the domain $\\theta\\in(0, 30)$, and assuming all steps are uniform, divide the domain into 100 steps. Thus we have found the angle to which each measurement corresponds to.  \n",
    "\n",
    "\n",
    "Once we have collected the data for each angle for a certain transducer and sample depth, we find the values for the first voltage peaks for each RF data. This is challenging to perform automatically, since there can be several candidates for the peak in each of the scans due to the noise in those regions. Thus, we must look at each one individually and find the peak value manually. Note that we must calculate the distance corresponding to the peak to ensure that the choice is reasonable. We then divide the data by the greatest value in the set (so that the range of the set is (0, 1)) and plot each value against the corresponding angle of the sample.\n",
    "\n",
    "### Results\n",
    "\n",
    "We see that FT signal at 9cm and 15cm sample depths falls off at around 5-6 degrees, while the 3FOC falls of at around 10-12 degrees for the same sample depths. 1.5FOC stays at a relatively constant value, however the RF  was noisy and the peak from the surface was almost indistinguishable from other nearby signals.  \n",
    "![Angle Dependence](img/AngleDependence.png)\n",
    "\n",
    "Half angle of flat transducer is given by $\\alpha = 2*\\arcsin{.514c/fD}$, where $\\alpha$ $c$ is speed of sound in medium, $f$ the frequency of transducer, $D$ element diameter. We calculate the half angle for the beam coming from the spherically focused transducers using a simplified geometric model - we assume  From our results presented in the notebook \"theoretical angle dependence.ipynb\", we expected the drop in voltage(s) for the FT, 3FOC, and 1.5FOC to occur when the angles are $1.56^\\circ, 4.68^\\circ, 11.13^\\circ$, respectively. Thus, our experimental results show approximately half angles 2 times greater than predicted.\n",
    "\n",
    "### Conclusion\n",
    "\n",
    "Out of the three transducers with different focusing chosen here, the 3 in Focused performed best - half maximum at 10 degrees and relatively well distinguishable peaks. However, our experimental results did not correspond to our theoretical predictions - by a factor of 2 for both focused transducers used."
   ]
  }
 ],
 "metadata": {
  "kernelspec": {
   "display_name": "Python 3",
   "language": "python",
   "name": "python3"
  },
  "language_info": {
   "codemirror_mode": {
    "name": "ipython",
    "version": 3
   },
   "file_extension": ".py",
   "mimetype": "text/x-python",
   "name": "python",
   "nbconvert_exporter": "python",
   "pygments_lexer": "ipython3",
   "version": "3.7.3"
  }
 },
 "nbformat": 4,
 "nbformat_minor": 2
}
